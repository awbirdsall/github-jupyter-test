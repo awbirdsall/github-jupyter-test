{
 "cells": [
  {
   "cell_type": "code",
   "execution_count": 6,
   "metadata": {
    "collapsed": true
   },
   "outputs": [],
   "source": [
    "from bokeh.plotting import figure, output_notebook, show\n",
    "import numpy as np"
   ]
  },
  {
   "cell_type": "code",
   "execution_count": 4,
   "metadata": {
    "collapsed": false
   },
   "outputs": [],
   "source": [
    "x = np.linspace(0, 6.28, 100)\n",
    "y = np.sin(x)"
   ]
  },
  {
   "cell_type": "code",
   "execution_count": 7,
   "metadata": {
    "collapsed": false
   },
   "outputs": [
    {
     "data": {
      "text/html": [
       "\n",
       "    <div class=\"bk-banner\">\n",
       "        <a href=\"http://bokeh.pydata.org\" target=\"_blank\" class=\"bk-logo bk-logo-small bk-logo-notebook\"></a>\n",
       "        <span id=\"a7ddf3be-5e05-4980-86dc-6d0ad6b83032\">Loading BokehJS ...</span>\n",
       "    </div>"
      ]
     },
     "metadata": {},
     "output_type": "display_data"
    },
    {
     "data": {
      "application/javascript": [
       "\n",
       "(function(global) {\n",
       "  function now() {\n",
       "    return new Date();\n",
       "  }\n",
       "\n",
       "  if (typeof (window._bokeh_onload_callbacks) === \"undefined\") {\n",
       "    window._bokeh_onload_callbacks = [];\n",
       "  }\n",
       "\n",
       "  function run_callbacks() {\n",
       "    window._bokeh_onload_callbacks.forEach(function(callback) { callback() });\n",
       "    delete window._bokeh_onload_callbacks\n",
       "    console.info(\"Bokeh: all callbacks have finished\");\n",
       "  }\n",
       "\n",
       "  function load_libs(js_urls, callback) {\n",
       "    window._bokeh_onload_callbacks.push(callback);\n",
       "    if (window._bokeh_is_loading > 0) {\n",
       "      console.log(\"Bokeh: BokehJS is being loaded, scheduling callback at\", now());\n",
       "      return null;\n",
       "    }\n",
       "    if (js_urls == null || js_urls.length === 0) {\n",
       "      run_callbacks();\n",
       "      return null;\n",
       "    }\n",
       "    console.log(\"Bokeh: BokehJS not loaded, scheduling load and callback at\", now());\n",
       "    window._bokeh_is_loading = js_urls.length;\n",
       "    for (var i = 0; i < js_urls.length; i++) {\n",
       "      var url = js_urls[i];\n",
       "      var s = document.createElement('script');\n",
       "      s.src = url;\n",
       "      s.async = false;\n",
       "      s.onreadystatechange = s.onload = function() {\n",
       "        window._bokeh_is_loading--;\n",
       "        if (window._bokeh_is_loading === 0) {\n",
       "          console.log(\"Bokeh: all BokehJS libraries loaded\");\n",
       "          run_callbacks()\n",
       "        }\n",
       "      };\n",
       "      s.onerror = function() {\n",
       "        console.warn(\"failed to load library \" + url);\n",
       "      };\n",
       "      console.log(\"Bokeh: injecting script tag for BokehJS library: \", url);\n",
       "      document.getElementsByTagName(\"head\")[0].appendChild(s);\n",
       "    }\n",
       "  };\n",
       "\n",
       "  var js_urls = ['https://cdn.pydata.org/bokeh/release/bokeh-0.11.1.min.js', 'https://cdn.pydata.org/bokeh/release/bokeh-widgets-0.11.1.min.js', 'https://cdn.pydata.org/bokeh/release/bokeh-compiler-0.11.1.min.js'];\n",
       "\n",
       "  var inline_js = [\n",
       "    function(Bokeh) {\n",
       "      Bokeh.set_log_level(\"info\");\n",
       "    },\n",
       "    \n",
       "    function(Bokeh) {\n",
       "      Bokeh.$(\"#a7ddf3be-5e05-4980-86dc-6d0ad6b83032\").text(\"BokehJS successfully loaded\");\n",
       "    },\n",
       "    function(Bokeh) {\n",
       "      console.log(\"Bokeh: injecting CSS: https://cdn.pydata.org/bokeh/release/bokeh-0.11.1.min.css\");\n",
       "      Bokeh.embed.inject_css(\"https://cdn.pydata.org/bokeh/release/bokeh-0.11.1.min.css\");\n",
       "      console.log(\"Bokeh: injecting CSS: https://cdn.pydata.org/bokeh/release/bokeh-widgets-0.11.1.min.css\");\n",
       "      Bokeh.embed.inject_css(\"https://cdn.pydata.org/bokeh/release/bokeh-widgets-0.11.1.min.css\");\n",
       "    }\n",
       "  ];\n",
       "\n",
       "  function run_inline_js() {\n",
       "    for (var i = 0; i < inline_js.length; i++) {\n",
       "      inline_js[i](window.Bokeh);\n",
       "    }\n",
       "  }\n",
       "\n",
       "  if (window._bokeh_is_loading === 0) {\n",
       "    console.log(\"Bokeh: BokehJS loaded, going straight to plotting\");\n",
       "    run_inline_js();\n",
       "  } else {\n",
       "    load_libs(js_urls, function() {\n",
       "      console.log(\"Bokeh: BokehJS plotting callback run at\", now());\n",
       "      run_inline_js();\n",
       "    });\n",
       "  }\n",
       "}(this));"
      ]
     },
     "metadata": {},
     "output_type": "display_data"
    },
    {
     "data": {
      "text/html": [
       "\n",
       "\n",
       "    <div class=\"plotdiv\" id=\"961753c7-b196-4fdb-b56f-2cd51667f517\"></div>\n",
       "<script type=\"text/javascript\">\n",
       "  \n",
       "  (function(global) {\n",
       "    function now() {\n",
       "      return new Date();\n",
       "    }\n",
       "  \n",
       "    if (typeof (window._bokeh_onload_callbacks) === \"undefined\") {\n",
       "      window._bokeh_onload_callbacks = [];\n",
       "    }\n",
       "  \n",
       "    function run_callbacks() {\n",
       "      window._bokeh_onload_callbacks.forEach(function(callback) { callback() });\n",
       "      delete window._bokeh_onload_callbacks\n",
       "      console.info(\"Bokeh: all callbacks have finished\");\n",
       "    }\n",
       "  \n",
       "    function load_libs(js_urls, callback) {\n",
       "      window._bokeh_onload_callbacks.push(callback);\n",
       "      if (window._bokeh_is_loading > 0) {\n",
       "        console.log(\"Bokeh: BokehJS is being loaded, scheduling callback at\", now());\n",
       "        return null;\n",
       "      }\n",
       "      if (js_urls == null || js_urls.length === 0) {\n",
       "        run_callbacks();\n",
       "        return null;\n",
       "      }\n",
       "      console.log(\"Bokeh: BokehJS not loaded, scheduling load and callback at\", now());\n",
       "      window._bokeh_is_loading = js_urls.length;\n",
       "      for (var i = 0; i < js_urls.length; i++) {\n",
       "        var url = js_urls[i];\n",
       "        var s = document.createElement('script');\n",
       "        s.src = url;\n",
       "        s.async = false;\n",
       "        s.onreadystatechange = s.onload = function() {\n",
       "          window._bokeh_is_loading--;\n",
       "          if (window._bokeh_is_loading === 0) {\n",
       "            console.log(\"Bokeh: all BokehJS libraries loaded\");\n",
       "            run_callbacks()\n",
       "          }\n",
       "        };\n",
       "        s.onerror = function() {\n",
       "          console.warn(\"failed to load library \" + url);\n",
       "        };\n",
       "        console.log(\"Bokeh: injecting script tag for BokehJS library: \", url);\n",
       "        document.getElementsByTagName(\"head\")[0].appendChild(s);\n",
       "      }\n",
       "    };var element = document.getElementById(\"961753c7-b196-4fdb-b56f-2cd51667f517\");\n",
       "    if (element == null) {\n",
       "      console.log(\"Bokeh: ERROR: autoload.js configured with elementid '961753c7-b196-4fdb-b56f-2cd51667f517' but no matching script tag was found. \")\n",
       "      return false;\n",
       "    }\n",
       "  \n",
       "    var js_urls = [];\n",
       "  \n",
       "    var inline_js = [\n",
       "      function(Bokeh) {\n",
       "        Bokeh.$(function() {\n",
       "            var docs_json = {\"57f20191-98d0-4676-b33a-518a04657eaf\":{\"roots\":{\"references\":[{\"attributes\":{\"dimension\":1,\"plot\":{\"id\":\"a90f77af-5dc7-4075-986e-86ee602b61bd\",\"subtype\":\"Figure\",\"type\":\"Plot\"},\"ticker\":{\"id\":\"2970678d-1d2f-48cd-bc29-c89c8d0ceae5\",\"type\":\"BasicTicker\"}},\"id\":\"62b9e482-5afe-4bda-96c9-9a74e1398981\",\"type\":\"Grid\"},{\"attributes\":{\"callback\":null},\"id\":\"dbe8128f-1532-4390-bc14-0035cedb3b38\",\"type\":\"DataRange1d\"},{\"attributes\":{\"callback\":null,\"column_names\":[\"y\",\"x\"],\"data\":{\"x\":[0.0,0.06343434343434344,0.12686868686868688,0.1903030303030303,0.25373737373737376,0.3171717171717172,0.3806060606060606,0.44404040404040407,0.5074747474747475,0.5709090909090909,0.6343434343434344,0.6977777777777778,0.7612121212121212,0.8246464646464647,0.8880808080808081,0.9515151515151516,1.014949494949495,1.0783838383838384,1.1418181818181818,1.2052525252525255,1.2686868686868689,1.3321212121212123,1.3955555555555557,1.458989898989899,1.5224242424242425,1.585858585858586,1.6492929292929295,1.7127272727272729,1.7761616161616163,1.8395959595959597,1.9030303030303033,1.9664646464646467,2.02989898989899,2.0933333333333337,2.156767676767677,2.2202020202020205,2.2836363636363637,2.3470707070707073,2.410505050505051,2.473939393939394,2.5373737373737377,2.600808080808081,2.6642424242424245,2.727676767676768,2.7911111111111113,2.854545454545455,2.917979797979798,2.9814141414141417,3.044848484848485,3.1082828282828285,3.171717171717172,3.2351515151515153,3.298585858585859,3.362020202020202,3.4254545454545458,3.4888888888888894,3.5523232323232325,3.615757575757576,3.6791919191919193,3.742626262626263,3.8060606060606066,3.8694949494949498,3.9329292929292934,3.9963636363636366,4.05979797979798,4.123232323232323,4.186666666666667,4.250101010101011,4.313535353535354,4.376969696969697,4.440404040404041,4.503838383838384,4.567272727272727,4.630707070707071,4.694141414141415,4.757575757575758,4.821010101010102,4.884444444444445,4.947878787878788,5.011313131313131,5.0747474747474755,5.138181818181819,5.201616161616162,5.265050505050506,5.328484848484849,5.391919191919192,5.455353535353536,5.5187878787878795,5.582222222222223,5.645656565656566,5.70909090909091,5.772525252525253,5.835959595959596,5.89939393939394,5.9628282828282835,6.026262626262627,6.08969696969697,6.153131313131314,6.216565656565657,6.28],\"y\":[0.0,0.06339180958206751,0.12652862137659784,0.18915646334168368,0.25102341080054724,0.31188059982537664,0.3714832283090957,0.4295915406981882,0.48597179242542327,0.5403971901629874,0.5926488041137917,0.6425164486712008,0.6897995279046735,0.7343078424702885,0.775862354700308,0.8142959087941533,0.8494539032137748,0.8811949125786644,0.909391256558893,0.9339295134777644,0.9547109765580849,0.971652050976766,0.9846845901305833,0.993756169760439,0.9988302988314448,0.9998865663205473,0.9969207233212308,0.989944700135028,0.9789865582810849,0.9640903776168261,0.9453160790237849,0.9227391833718553,0.8964505077315492,0.8665558000562655,0.8331753138040857,0.7964433242102068,0.756507588155842,0.7135287498062964,0.667679694409086,0.6191448528514825,0.5681194597749513,0.5148087682307709,0.4594272240359234,0.40219760315047687,0.3433501155464075,0.28312147917261177,0.22175396774115147,0.15949443616506337,0.09659332756798958,0.03330366585998383,-0.030119962068061418,-0.09342243043718693,-0.15634910084085193,-0.21864684654492686,-0.28006507070688946,-0.3403567144183564,-0.39927925051604285,-0.4565956591634747,-0.5120753812791069,-0.5654952459756295,-0.616640368279763,-0.6653050135214157,-0.711293424915134,-0.7544206110048436,-0.7945130898043373,-0.8314095866401491,-0.8649616828896999,-0.8950344130051163,-0.9215068074211633,-0.9442723791633973,-0.9632395521991329,-0.978332029808149,-0.9894891014913434,-0.996665887182768,-0.9998335177826918,-0.998979251285483,-0.994106524035177,-0.9852349369025533,-0.9724001764393239,-0.9556538713265956,-0.935063384695052,-0.910711543152263,-0.8826963036071223,-0.8511303592316408,-0.8161406861451372,-0.7778680326443159,-0.7364663530338449,-0.6921021883348855,-0.6449539963627092,-0.5952114338682207,-0.5430745936310093,-0.48875319957278346,-0.43246576312888596,-0.3744387042714536,-0.3149054407199614,-0.2541054490028526,-0.19228330114721323,-0.1296876808714584,-0.06657038323847053,-0.0031853017931379904]}},\"id\":\"682d91ed-eaf7-474a-908e-eeb900810c90\",\"type\":\"ColumnDataSource\"},{\"attributes\":{\"plot\":{\"id\":\"a90f77af-5dc7-4075-986e-86ee602b61bd\",\"subtype\":\"Figure\",\"type\":\"Plot\"}},\"id\":\"a16bf587-a067-4dd1-a3ac-1a0632531445\",\"type\":\"WheelZoomTool\"},{\"attributes\":{},\"id\":\"2970678d-1d2f-48cd-bc29-c89c8d0ceae5\",\"type\":\"BasicTicker\"},{\"attributes\":{\"plot\":{\"id\":\"a90f77af-5dc7-4075-986e-86ee602b61bd\",\"subtype\":\"Figure\",\"type\":\"Plot\"},\"ticker\":{\"id\":\"265add25-c1a9-4487-b522-0c10b26f3a61\",\"type\":\"BasicTicker\"}},\"id\":\"6fc8f41b-0905-404f-a002-af6dc6a0be7e\",\"type\":\"Grid\"},{\"attributes\":{},\"id\":\"265add25-c1a9-4487-b522-0c10b26f3a61\",\"type\":\"BasicTicker\"},{\"attributes\":{},\"id\":\"152a0602-903c-44db-8f02-b0a7eac8bb54\",\"type\":\"BasicTickFormatter\"},{\"attributes\":{\"plot\":{\"id\":\"a90f77af-5dc7-4075-986e-86ee602b61bd\",\"subtype\":\"Figure\",\"type\":\"Plot\"}},\"id\":\"914177a3-5960-4482-abb7-313e14ebc84e\",\"type\":\"ResetTool\"},{\"attributes\":{},\"id\":\"d935b66d-95fe-48d2-a299-fb36633a082a\",\"type\":\"ToolEvents\"},{\"attributes\":{\"line_color\":{\"value\":\"#1f77b4\"},\"x\":{\"field\":\"x\"},\"y\":{\"field\":\"y\"}},\"id\":\"cc95610a-a34c-4afc-8a52-5ca58bd723ce\",\"type\":\"Line\"},{\"attributes\":{\"below\":[{\"id\":\"a5bdc69b-4307-449e-8811-1c74ecfb6cc9\",\"type\":\"LinearAxis\"}],\"left\":[{\"id\":\"fa5c98eb-2a1d-4fe5-95c5-919bb06e4124\",\"type\":\"LinearAxis\"}],\"renderers\":[{\"id\":\"a5bdc69b-4307-449e-8811-1c74ecfb6cc9\",\"type\":\"LinearAxis\"},{\"id\":\"6fc8f41b-0905-404f-a002-af6dc6a0be7e\",\"type\":\"Grid\"},{\"id\":\"fa5c98eb-2a1d-4fe5-95c5-919bb06e4124\",\"type\":\"LinearAxis\"},{\"id\":\"62b9e482-5afe-4bda-96c9-9a74e1398981\",\"type\":\"Grid\"},{\"id\":\"1dabe9cc-e6ca-4b39-b112-70b11d37dd7e\",\"type\":\"BoxAnnotation\"},{\"id\":\"6493b5dd-49ab-49bc-b69a-250cba15b499\",\"type\":\"GlyphRenderer\"}],\"tool_events\":{\"id\":\"d935b66d-95fe-48d2-a299-fb36633a082a\",\"type\":\"ToolEvents\"},\"tools\":[{\"id\":\"1059878b-f2a0-4573-82ed-01581cb8806e\",\"type\":\"PanTool\"},{\"id\":\"a16bf587-a067-4dd1-a3ac-1a0632531445\",\"type\":\"WheelZoomTool\"},{\"id\":\"5a5d1091-f4a7-4b6b-89fd-6e5cb7a19754\",\"type\":\"BoxZoomTool\"},{\"id\":\"eabc319a-b34d-4c88-9358-11652faf730e\",\"type\":\"PreviewSaveTool\"},{\"id\":\"1cbb2d86-ca83-40c3-bfd7-05a5da3052d0\",\"type\":\"ResizeTool\"},{\"id\":\"914177a3-5960-4482-abb7-313e14ebc84e\",\"type\":\"ResetTool\"},{\"id\":\"0474e7ef-a0e4-4c81-9782-d05e9a6b1413\",\"type\":\"HelpTool\"}],\"x_range\":{\"id\":\"dbe8128f-1532-4390-bc14-0035cedb3b38\",\"type\":\"DataRange1d\"},\"y_range\":{\"id\":\"b61d6f3f-4a34-49d1-83fb-5b2ac5a41e2a\",\"type\":\"DataRange1d\"}},\"id\":\"a90f77af-5dc7-4075-986e-86ee602b61bd\",\"subtype\":\"Figure\",\"type\":\"Plot\"},{\"attributes\":{\"data_source\":{\"id\":\"682d91ed-eaf7-474a-908e-eeb900810c90\",\"type\":\"ColumnDataSource\"},\"glyph\":{\"id\":\"cc95610a-a34c-4afc-8a52-5ca58bd723ce\",\"type\":\"Line\"},\"hover_glyph\":null,\"nonselection_glyph\":{\"id\":\"d481a230-9550-4266-8f39-9edb856d362a\",\"type\":\"Line\"},\"selection_glyph\":null},\"id\":\"6493b5dd-49ab-49bc-b69a-250cba15b499\",\"type\":\"GlyphRenderer\"},{\"attributes\":{\"plot\":{\"id\":\"a90f77af-5dc7-4075-986e-86ee602b61bd\",\"subtype\":\"Figure\",\"type\":\"Plot\"}},\"id\":\"0474e7ef-a0e4-4c81-9782-d05e9a6b1413\",\"type\":\"HelpTool\"},{\"attributes\":{\"plot\":{\"id\":\"a90f77af-5dc7-4075-986e-86ee602b61bd\",\"subtype\":\"Figure\",\"type\":\"Plot\"}},\"id\":\"eabc319a-b34d-4c88-9358-11652faf730e\",\"type\":\"PreviewSaveTool\"},{\"attributes\":{\"formatter\":{\"id\":\"152a0602-903c-44db-8f02-b0a7eac8bb54\",\"type\":\"BasicTickFormatter\"},\"plot\":{\"id\":\"a90f77af-5dc7-4075-986e-86ee602b61bd\",\"subtype\":\"Figure\",\"type\":\"Plot\"},\"ticker\":{\"id\":\"2970678d-1d2f-48cd-bc29-c89c8d0ceae5\",\"type\":\"BasicTicker\"}},\"id\":\"fa5c98eb-2a1d-4fe5-95c5-919bb06e4124\",\"type\":\"LinearAxis\"},{\"attributes\":{\"callback\":null},\"id\":\"b61d6f3f-4a34-49d1-83fb-5b2ac5a41e2a\",\"type\":\"DataRange1d\"},{\"attributes\":{\"bottom_units\":\"screen\",\"fill_alpha\":{\"value\":0.5},\"fill_color\":{\"value\":\"lightgrey\"},\"left_units\":\"screen\",\"level\":\"overlay\",\"line_alpha\":{\"value\":1.0},\"line_color\":{\"value\":\"black\"},\"line_dash\":[4,4],\"line_width\":{\"value\":2},\"plot\":null,\"render_mode\":\"css\",\"right_units\":\"screen\",\"top_units\":\"screen\"},\"id\":\"1dabe9cc-e6ca-4b39-b112-70b11d37dd7e\",\"type\":\"BoxAnnotation\"},{\"attributes\":{\"plot\":{\"id\":\"a90f77af-5dc7-4075-986e-86ee602b61bd\",\"subtype\":\"Figure\",\"type\":\"Plot\"}},\"id\":\"1cbb2d86-ca83-40c3-bfd7-05a5da3052d0\",\"type\":\"ResizeTool\"},{\"attributes\":{},\"id\":\"e4b59777-ee84-4c80-bf27-3eb2d390dfb7\",\"type\":\"BasicTickFormatter\"},{\"attributes\":{\"overlay\":{\"id\":\"1dabe9cc-e6ca-4b39-b112-70b11d37dd7e\",\"type\":\"BoxAnnotation\"},\"plot\":{\"id\":\"a90f77af-5dc7-4075-986e-86ee602b61bd\",\"subtype\":\"Figure\",\"type\":\"Plot\"}},\"id\":\"5a5d1091-f4a7-4b6b-89fd-6e5cb7a19754\",\"type\":\"BoxZoomTool\"},{\"attributes\":{\"line_alpha\":{\"value\":0.1},\"line_color\":{\"value\":\"#1f77b4\"},\"x\":{\"field\":\"x\"},\"y\":{\"field\":\"y\"}},\"id\":\"d481a230-9550-4266-8f39-9edb856d362a\",\"type\":\"Line\"},{\"attributes\":{\"formatter\":{\"id\":\"e4b59777-ee84-4c80-bf27-3eb2d390dfb7\",\"type\":\"BasicTickFormatter\"},\"plot\":{\"id\":\"a90f77af-5dc7-4075-986e-86ee602b61bd\",\"subtype\":\"Figure\",\"type\":\"Plot\"},\"ticker\":{\"id\":\"265add25-c1a9-4487-b522-0c10b26f3a61\",\"type\":\"BasicTicker\"}},\"id\":\"a5bdc69b-4307-449e-8811-1c74ecfb6cc9\",\"type\":\"LinearAxis\"},{\"attributes\":{\"plot\":{\"id\":\"a90f77af-5dc7-4075-986e-86ee602b61bd\",\"subtype\":\"Figure\",\"type\":\"Plot\"}},\"id\":\"1059878b-f2a0-4573-82ed-01581cb8806e\",\"type\":\"PanTool\"}],\"root_ids\":[\"a90f77af-5dc7-4075-986e-86ee602b61bd\"]},\"title\":\"Bokeh Application\",\"version\":\"0.11.1\"}};\n",
       "            var render_items = [{\"docid\":\"57f20191-98d0-4676-b33a-518a04657eaf\",\"elementid\":\"961753c7-b196-4fdb-b56f-2cd51667f517\",\"modelid\":\"a90f77af-5dc7-4075-986e-86ee602b61bd\",\"notebook_comms_target\":\"3f65460b-b821-401e-985d-3dba0e9cf430\"}];\n",
       "            \n",
       "            Bokeh.embed.embed_items(docs_json, render_items);\n",
       "        });\n",
       "      },\n",
       "      function(Bokeh) {\n",
       "      }\n",
       "    ];\n",
       "  \n",
       "    function run_inline_js() {\n",
       "      for (var i = 0; i < inline_js.length; i++) {\n",
       "        inline_js[i](window.Bokeh);\n",
       "      }\n",
       "    }\n",
       "  \n",
       "    if (window._bokeh_is_loading === 0) {\n",
       "      console.log(\"Bokeh: BokehJS loaded, going straight to plotting\");\n",
       "      run_inline_js();\n",
       "    } else {\n",
       "      load_libs(js_urls, function() {\n",
       "        console.log(\"Bokeh: BokehJS plotting callback run at\", now());\n",
       "        run_inline_js();\n",
       "      });\n",
       "    }\n",
       "  }(this));\n",
       "</script>"
      ]
     },
     "metadata": {},
     "output_type": "display_data"
    },
    {
     "data": {
      "text/html": [
       "<p><code>&lt;Bokeh Notebook handle for <strong>In[7]</strong>&gt;</code></p>"
      ],
      "text/plain": [
       "<bokeh.io._CommsHandle at 0x8881fd0>"
      ]
     },
     "execution_count": 7,
     "metadata": {},
     "output_type": "execute_result"
    }
   ],
   "source": [
    "output_notebook()\n",
    "p = figure()\n",
    "p.line(x,y)\n",
    "show(p)"
   ]
  },
  {
   "cell_type": "code",
   "execution_count": 8,
   "metadata": {
    "collapsed": false
   },
   "outputs": [
    {
     "data": {
      "text/html": [
       "\n",
       "\n",
       "    <div class=\"plotdiv\" id=\"78e5d743-a5ec-4780-9e7e-b4d93dc17276\"></div>\n",
       "<script type=\"text/javascript\">\n",
       "  \n",
       "  (function(global) {\n",
       "    function now() {\n",
       "      return new Date();\n",
       "    }\n",
       "  \n",
       "    if (typeof (window._bokeh_onload_callbacks) === \"undefined\") {\n",
       "      window._bokeh_onload_callbacks = [];\n",
       "    }\n",
       "  \n",
       "    function run_callbacks() {\n",
       "      window._bokeh_onload_callbacks.forEach(function(callback) { callback() });\n",
       "      delete window._bokeh_onload_callbacks\n",
       "      console.info(\"Bokeh: all callbacks have finished\");\n",
       "    }\n",
       "  \n",
       "    function load_libs(js_urls, callback) {\n",
       "      window._bokeh_onload_callbacks.push(callback);\n",
       "      if (window._bokeh_is_loading > 0) {\n",
       "        console.log(\"Bokeh: BokehJS is being loaded, scheduling callback at\", now());\n",
       "        return null;\n",
       "      }\n",
       "      if (js_urls == null || js_urls.length === 0) {\n",
       "        run_callbacks();\n",
       "        return null;\n",
       "      }\n",
       "      console.log(\"Bokeh: BokehJS not loaded, scheduling load and callback at\", now());\n",
       "      window._bokeh_is_loading = js_urls.length;\n",
       "      for (var i = 0; i < js_urls.length; i++) {\n",
       "        var url = js_urls[i];\n",
       "        var s = document.createElement('script');\n",
       "        s.src = url;\n",
       "        s.async = false;\n",
       "        s.onreadystatechange = s.onload = function() {\n",
       "          window._bokeh_is_loading--;\n",
       "          if (window._bokeh_is_loading === 0) {\n",
       "            console.log(\"Bokeh: all BokehJS libraries loaded\");\n",
       "            run_callbacks()\n",
       "          }\n",
       "        };\n",
       "        s.onerror = function() {\n",
       "          console.warn(\"failed to load library \" + url);\n",
       "        };\n",
       "        console.log(\"Bokeh: injecting script tag for BokehJS library: \", url);\n",
       "        document.getElementsByTagName(\"head\")[0].appendChild(s);\n",
       "      }\n",
       "    };var element = document.getElementById(\"78e5d743-a5ec-4780-9e7e-b4d93dc17276\");\n",
       "    if (element == null) {\n",
       "      console.log(\"Bokeh: ERROR: autoload.js configured with elementid '78e5d743-a5ec-4780-9e7e-b4d93dc17276' but no matching script tag was found. \")\n",
       "      return false;\n",
       "    }\n",
       "  \n",
       "    var js_urls = [];\n",
       "  \n",
       "    var inline_js = [\n",
       "      function(Bokeh) {\n",
       "        Bokeh.$(function() {\n",
       "            var docs_json = {\"267ddcbd-26bd-4a20-bd83-b93c60aa688f\":{\"roots\":{\"references\":[{\"attributes\":{\"dimension\":1,\"plot\":{\"id\":\"a90f77af-5dc7-4075-986e-86ee602b61bd\",\"subtype\":\"Figure\",\"type\":\"Plot\"},\"ticker\":{\"id\":\"2970678d-1d2f-48cd-bc29-c89c8d0ceae5\",\"type\":\"BasicTicker\"}},\"id\":\"62b9e482-5afe-4bda-96c9-9a74e1398981\",\"type\":\"Grid\"},{\"attributes\":{\"data_source\":{\"id\":\"eab03850-2bfe-4353-8d06-649b5b933e3c\",\"type\":\"ColumnDataSource\"},\"glyph\":{\"id\":\"c02cab01-c530-4a96-a1a3-c4e7d6772b14\",\"type\":\"Circle\"},\"hover_glyph\":null,\"nonselection_glyph\":{\"id\":\"cdc9eadc-a4f5-49db-8a81-2df3a49bb214\",\"type\":\"Circle\"},\"selection_glyph\":null},\"id\":\"0d4af960-36da-485f-a305-ef3fcf7af2b6\",\"type\":\"GlyphRenderer\"},{\"attributes\":{\"callback\":null},\"id\":\"dbe8128f-1532-4390-bc14-0035cedb3b38\",\"type\":\"DataRange1d\"},{\"attributes\":{\"callback\":null,\"column_names\":[\"y\",\"x\"],\"data\":{\"x\":[0.0,0.06343434343434344,0.12686868686868688,0.1903030303030303,0.25373737373737376,0.3171717171717172,0.3806060606060606,0.44404040404040407,0.5074747474747475,0.5709090909090909,0.6343434343434344,0.6977777777777778,0.7612121212121212,0.8246464646464647,0.8880808080808081,0.9515151515151516,1.014949494949495,1.0783838383838384,1.1418181818181818,1.2052525252525255,1.2686868686868689,1.3321212121212123,1.3955555555555557,1.458989898989899,1.5224242424242425,1.585858585858586,1.6492929292929295,1.7127272727272729,1.7761616161616163,1.8395959595959597,1.9030303030303033,1.9664646464646467,2.02989898989899,2.0933333333333337,2.156767676767677,2.2202020202020205,2.2836363636363637,2.3470707070707073,2.410505050505051,2.473939393939394,2.5373737373737377,2.600808080808081,2.6642424242424245,2.727676767676768,2.7911111111111113,2.854545454545455,2.917979797979798,2.9814141414141417,3.044848484848485,3.1082828282828285,3.171717171717172,3.2351515151515153,3.298585858585859,3.362020202020202,3.4254545454545458,3.4888888888888894,3.5523232323232325,3.615757575757576,3.6791919191919193,3.742626262626263,3.8060606060606066,3.8694949494949498,3.9329292929292934,3.9963636363636366,4.05979797979798,4.123232323232323,4.186666666666667,4.250101010101011,4.313535353535354,4.376969696969697,4.440404040404041,4.503838383838384,4.567272727272727,4.630707070707071,4.694141414141415,4.757575757575758,4.821010101010102,4.884444444444445,4.947878787878788,5.011313131313131,5.0747474747474755,5.138181818181819,5.201616161616162,5.265050505050506,5.328484848484849,5.391919191919192,5.455353535353536,5.5187878787878795,5.582222222222223,5.645656565656566,5.70909090909091,5.772525252525253,5.835959595959596,5.89939393939394,5.9628282828282835,6.026262626262627,6.08969696969697,6.153131313131314,6.216565656565657,6.28],\"y\":[0.0,0.06339180958206751,0.12652862137659784,0.18915646334168368,0.25102341080054724,0.31188059982537664,0.3714832283090957,0.4295915406981882,0.48597179242542327,0.5403971901629874,0.5926488041137917,0.6425164486712008,0.6897995279046735,0.7343078424702885,0.775862354700308,0.8142959087941533,0.8494539032137748,0.8811949125786644,0.909391256558893,0.9339295134777644,0.9547109765580849,0.971652050976766,0.9846845901305833,0.993756169760439,0.9988302988314448,0.9998865663205473,0.9969207233212308,0.989944700135028,0.9789865582810849,0.9640903776168261,0.9453160790237849,0.9227391833718553,0.8964505077315492,0.8665558000562655,0.8331753138040857,0.7964433242102068,0.756507588155842,0.7135287498062964,0.667679694409086,0.6191448528514825,0.5681194597749513,0.5148087682307709,0.4594272240359234,0.40219760315047687,0.3433501155464075,0.28312147917261177,0.22175396774115147,0.15949443616506337,0.09659332756798958,0.03330366585998383,-0.030119962068061418,-0.09342243043718693,-0.15634910084085193,-0.21864684654492686,-0.28006507070688946,-0.3403567144183564,-0.39927925051604285,-0.4565956591634747,-0.5120753812791069,-0.5654952459756295,-0.616640368279763,-0.6653050135214157,-0.711293424915134,-0.7544206110048436,-0.7945130898043373,-0.8314095866401491,-0.8649616828896999,-0.8950344130051163,-0.9215068074211633,-0.9442723791633973,-0.9632395521991329,-0.978332029808149,-0.9894891014913434,-0.996665887182768,-0.9998335177826918,-0.998979251285483,-0.994106524035177,-0.9852349369025533,-0.9724001764393239,-0.9556538713265956,-0.935063384695052,-0.910711543152263,-0.8826963036071223,-0.8511303592316408,-0.8161406861451372,-0.7778680326443159,-0.7364663530338449,-0.6921021883348855,-0.6449539963627092,-0.5952114338682207,-0.5430745936310093,-0.48875319957278346,-0.43246576312888596,-0.3744387042714536,-0.3149054407199614,-0.2541054490028526,-0.19228330114721323,-0.1296876808714584,-0.06657038323847053,-0.0031853017931379904]}},\"id\":\"682d91ed-eaf7-474a-908e-eeb900810c90\",\"type\":\"ColumnDataSource\"},{\"attributes\":{\"fill_color\":{\"value\":\"#1f77b4\"},\"line_color\":{\"value\":\"#1f77b4\"},\"x\":{\"field\":\"x\"},\"y\":{\"field\":\"y\"}},\"id\":\"c02cab01-c530-4a96-a1a3-c4e7d6772b14\",\"type\":\"Circle\"},{\"attributes\":{\"plot\":{\"id\":\"a90f77af-5dc7-4075-986e-86ee602b61bd\",\"subtype\":\"Figure\",\"type\":\"Plot\"}},\"id\":\"a16bf587-a067-4dd1-a3ac-1a0632531445\",\"type\":\"WheelZoomTool\"},{\"attributes\":{},\"id\":\"2970678d-1d2f-48cd-bc29-c89c8d0ceae5\",\"type\":\"BasicTicker\"},{\"attributes\":{\"data_source\":{\"id\":\"682d91ed-eaf7-474a-908e-eeb900810c90\",\"type\":\"ColumnDataSource\"},\"glyph\":{\"id\":\"cc95610a-a34c-4afc-8a52-5ca58bd723ce\",\"type\":\"Line\"},\"hover_glyph\":null,\"nonselection_glyph\":{\"id\":\"d481a230-9550-4266-8f39-9edb856d362a\",\"type\":\"Line\"},\"selection_glyph\":null},\"id\":\"6493b5dd-49ab-49bc-b69a-250cba15b499\",\"type\":\"GlyphRenderer\"},{\"attributes\":{\"plot\":{\"id\":\"a90f77af-5dc7-4075-986e-86ee602b61bd\",\"subtype\":\"Figure\",\"type\":\"Plot\"},\"ticker\":{\"id\":\"265add25-c1a9-4487-b522-0c10b26f3a61\",\"type\":\"BasicTicker\"}},\"id\":\"6fc8f41b-0905-404f-a002-af6dc6a0be7e\",\"type\":\"Grid\"},{\"attributes\":{},\"id\":\"265add25-c1a9-4487-b522-0c10b26f3a61\",\"type\":\"BasicTicker\"},{\"attributes\":{},\"id\":\"152a0602-903c-44db-8f02-b0a7eac8bb54\",\"type\":\"BasicTickFormatter\"},{\"attributes\":{\"plot\":{\"id\":\"a90f77af-5dc7-4075-986e-86ee602b61bd\",\"subtype\":\"Figure\",\"type\":\"Plot\"}},\"id\":\"914177a3-5960-4482-abb7-313e14ebc84e\",\"type\":\"ResetTool\"},{\"attributes\":{\"fill_alpha\":{\"value\":0.1},\"fill_color\":{\"value\":\"#1f77b4\"},\"line_alpha\":{\"value\":0.1},\"line_color\":{\"value\":\"#1f77b4\"},\"x\":{\"field\":\"x\"},\"y\":{\"field\":\"y\"}},\"id\":\"cdc9eadc-a4f5-49db-8a81-2df3a49bb214\",\"type\":\"Circle\"},{\"attributes\":{},\"id\":\"d935b66d-95fe-48d2-a299-fb36633a082a\",\"type\":\"ToolEvents\"},{\"attributes\":{\"line_color\":{\"value\":\"#1f77b4\"},\"x\":{\"field\":\"x\"},\"y\":{\"field\":\"y\"}},\"id\":\"cc95610a-a34c-4afc-8a52-5ca58bd723ce\",\"type\":\"Line\"},{\"attributes\":{\"below\":[{\"id\":\"a5bdc69b-4307-449e-8811-1c74ecfb6cc9\",\"type\":\"LinearAxis\"}],\"left\":[{\"id\":\"fa5c98eb-2a1d-4fe5-95c5-919bb06e4124\",\"type\":\"LinearAxis\"}],\"renderers\":[{\"id\":\"a5bdc69b-4307-449e-8811-1c74ecfb6cc9\",\"type\":\"LinearAxis\"},{\"id\":\"6fc8f41b-0905-404f-a002-af6dc6a0be7e\",\"type\":\"Grid\"},{\"id\":\"fa5c98eb-2a1d-4fe5-95c5-919bb06e4124\",\"type\":\"LinearAxis\"},{\"id\":\"62b9e482-5afe-4bda-96c9-9a74e1398981\",\"type\":\"Grid\"},{\"id\":\"1dabe9cc-e6ca-4b39-b112-70b11d37dd7e\",\"type\":\"BoxAnnotation\"},{\"id\":\"6493b5dd-49ab-49bc-b69a-250cba15b499\",\"type\":\"GlyphRenderer\"},{\"id\":\"0d4af960-36da-485f-a305-ef3fcf7af2b6\",\"type\":\"GlyphRenderer\"}],\"tool_events\":{\"id\":\"d935b66d-95fe-48d2-a299-fb36633a082a\",\"type\":\"ToolEvents\"},\"tools\":[{\"id\":\"1059878b-f2a0-4573-82ed-01581cb8806e\",\"type\":\"PanTool\"},{\"id\":\"a16bf587-a067-4dd1-a3ac-1a0632531445\",\"type\":\"WheelZoomTool\"},{\"id\":\"5a5d1091-f4a7-4b6b-89fd-6e5cb7a19754\",\"type\":\"BoxZoomTool\"},{\"id\":\"eabc319a-b34d-4c88-9358-11652faf730e\",\"type\":\"PreviewSaveTool\"},{\"id\":\"1cbb2d86-ca83-40c3-bfd7-05a5da3052d0\",\"type\":\"ResizeTool\"},{\"id\":\"914177a3-5960-4482-abb7-313e14ebc84e\",\"type\":\"ResetTool\"},{\"id\":\"0474e7ef-a0e4-4c81-9782-d05e9a6b1413\",\"type\":\"HelpTool\"}],\"x_range\":{\"id\":\"dbe8128f-1532-4390-bc14-0035cedb3b38\",\"type\":\"DataRange1d\"},\"y_range\":{\"id\":\"b61d6f3f-4a34-49d1-83fb-5b2ac5a41e2a\",\"type\":\"DataRange1d\"}},\"id\":\"a90f77af-5dc7-4075-986e-86ee602b61bd\",\"subtype\":\"Figure\",\"type\":\"Plot\"},{\"attributes\":{\"callback\":null,\"column_names\":[\"y\",\"x\"],\"data\":{\"x\":[0.0,0.06343434343434344,0.12686868686868688,0.1903030303030303,0.25373737373737376,0.3171717171717172,0.3806060606060606,0.44404040404040407,0.5074747474747475,0.5709090909090909,0.6343434343434344,0.6977777777777778,0.7612121212121212,0.8246464646464647,0.8880808080808081,0.9515151515151516,1.014949494949495,1.0783838383838384,1.1418181818181818,1.2052525252525255,1.2686868686868689,1.3321212121212123,1.3955555555555557,1.458989898989899,1.5224242424242425,1.585858585858586,1.6492929292929295,1.7127272727272729,1.7761616161616163,1.8395959595959597,1.9030303030303033,1.9664646464646467,2.02989898989899,2.0933333333333337,2.156767676767677,2.2202020202020205,2.2836363636363637,2.3470707070707073,2.410505050505051,2.473939393939394,2.5373737373737377,2.600808080808081,2.6642424242424245,2.727676767676768,2.7911111111111113,2.854545454545455,2.917979797979798,2.9814141414141417,3.044848484848485,3.1082828282828285,3.171717171717172,3.2351515151515153,3.298585858585859,3.362020202020202,3.4254545454545458,3.4888888888888894,3.5523232323232325,3.615757575757576,3.6791919191919193,3.742626262626263,3.8060606060606066,3.8694949494949498,3.9329292929292934,3.9963636363636366,4.05979797979798,4.123232323232323,4.186666666666667,4.250101010101011,4.313535353535354,4.376969696969697,4.440404040404041,4.503838383838384,4.567272727272727,4.630707070707071,4.694141414141415,4.757575757575758,4.821010101010102,4.884444444444445,4.947878787878788,5.011313131313131,5.0747474747474755,5.138181818181819,5.201616161616162,5.265050505050506,5.328484848484849,5.391919191919192,5.455353535353536,5.5187878787878795,5.582222222222223,5.645656565656566,5.70909090909091,5.772525252525253,5.835959595959596,5.89939393939394,5.9628282828282835,6.026262626262627,6.08969696969697,6.153131313131314,6.216565656565657,6.28],\"y\":[0.0,0.12678361916413503,0.2530572427531957,0.37831292668336736,0.5020468216010945,0.6237611996507533,0.7429664566181914,0.8591830813963764,0.9719435848508465,1.0807943803259747,1.1852976082275835,1.2850328973424017,1.379599055809347,1.468615684940577,1.551724709400616,1.6285918175883065,1.6989078064275496,1.762389825157329,1.818782513117786,1.8678590269555289,1.9094219531161698,1.943304101953532,1.9693691802611666,1.987512339520878,1.9976605976628896,1.9997731326410946,1.9938414466424617,1.979889400270056,1.9579731165621699,1.9281807552336523,1.8906321580475698,1.8454783667437107,1.7929010154630984,1.733111600112531,1.6663506276081714,1.5928866484204136,1.513015176311684,1.4270574996125929,1.335359388818172,1.238289705702965,1.1362389195499025,1.0296175364615419,0.9188544480718468,0.8043952063009537,0.686700231092815,0.5662429583452235,0.44350793548230294,0.31898887233012674,0.19318665513597916,0.06660733171996766,-0.060239924136122835,-0.18684486087437385,-0.31269820168170387,-0.4372936930898537,-0.5601301414137789,-0.6807134288367128,-0.7985585010320857,-0.9131913183269494,-1.0241507625582138,-1.130990491951259,-1.233280736559526,-1.3306100270428314,-1.422586849830268,-1.5088412220096872,-1.5890261796086746,-1.6628191732802982,-1.7299233657793998,-1.7900688260102326,-1.8430136148423266,-1.8885447583267947,-1.9264791043982659,-1.956664059616298,-1.9789782029826868,-1.993331774365536,-1.9996670355653836,-1.997958502570966,-1.988213048070354,-1.9704698738051065,-1.9448003528786477,-1.9113077426531913,-1.870126769390104,-1.821423086304526,-1.7653926072142445,-1.7022607184632816,-1.6322813722902745,-1.5557360652886318,-1.4729327060676898,-1.384204376669771,-1.2899079927254185,-1.1904228677364415,-1.0861491872620186,-0.9775063991455669,-0.8649315262577719,-0.7488774085429072,-0.6298108814399228,-0.5082108980057052,-0.38456660229442646,-0.2593753617429168,-0.13314076647694106,-0.006370603586275981]}},\"id\":\"eab03850-2bfe-4353-8d06-649b5b933e3c\",\"type\":\"ColumnDataSource\"},{\"attributes\":{\"plot\":{\"id\":\"a90f77af-5dc7-4075-986e-86ee602b61bd\",\"subtype\":\"Figure\",\"type\":\"Plot\"}},\"id\":\"0474e7ef-a0e4-4c81-9782-d05e9a6b1413\",\"type\":\"HelpTool\"},{\"attributes\":{\"plot\":{\"id\":\"a90f77af-5dc7-4075-986e-86ee602b61bd\",\"subtype\":\"Figure\",\"type\":\"Plot\"}},\"id\":\"eabc319a-b34d-4c88-9358-11652faf730e\",\"type\":\"PreviewSaveTool\"},{\"attributes\":{\"formatter\":{\"id\":\"152a0602-903c-44db-8f02-b0a7eac8bb54\",\"type\":\"BasicTickFormatter\"},\"plot\":{\"id\":\"a90f77af-5dc7-4075-986e-86ee602b61bd\",\"subtype\":\"Figure\",\"type\":\"Plot\"},\"ticker\":{\"id\":\"2970678d-1d2f-48cd-bc29-c89c8d0ceae5\",\"type\":\"BasicTicker\"}},\"id\":\"fa5c98eb-2a1d-4fe5-95c5-919bb06e4124\",\"type\":\"LinearAxis\"},{\"attributes\":{\"callback\":null},\"id\":\"b61d6f3f-4a34-49d1-83fb-5b2ac5a41e2a\",\"type\":\"DataRange1d\"},{\"attributes\":{\"bottom_units\":\"screen\",\"fill_alpha\":{\"value\":0.5},\"fill_color\":{\"value\":\"lightgrey\"},\"left_units\":\"screen\",\"level\":\"overlay\",\"line_alpha\":{\"value\":1.0},\"line_color\":{\"value\":\"black\"},\"line_dash\":[4,4],\"line_width\":{\"value\":2},\"plot\":null,\"render_mode\":\"css\",\"right_units\":\"screen\",\"top_units\":\"screen\"},\"id\":\"1dabe9cc-e6ca-4b39-b112-70b11d37dd7e\",\"type\":\"BoxAnnotation\"},{\"attributes\":{\"plot\":{\"id\":\"a90f77af-5dc7-4075-986e-86ee602b61bd\",\"subtype\":\"Figure\",\"type\":\"Plot\"}},\"id\":\"1cbb2d86-ca83-40c3-bfd7-05a5da3052d0\",\"type\":\"ResizeTool\"},{\"attributes\":{},\"id\":\"e4b59777-ee84-4c80-bf27-3eb2d390dfb7\",\"type\":\"BasicTickFormatter\"},{\"attributes\":{\"overlay\":{\"id\":\"1dabe9cc-e6ca-4b39-b112-70b11d37dd7e\",\"type\":\"BoxAnnotation\"},\"plot\":{\"id\":\"a90f77af-5dc7-4075-986e-86ee602b61bd\",\"subtype\":\"Figure\",\"type\":\"Plot\"}},\"id\":\"5a5d1091-f4a7-4b6b-89fd-6e5cb7a19754\",\"type\":\"BoxZoomTool\"},{\"attributes\":{\"line_alpha\":{\"value\":0.1},\"line_color\":{\"value\":\"#1f77b4\"},\"x\":{\"field\":\"x\"},\"y\":{\"field\":\"y\"}},\"id\":\"d481a230-9550-4266-8f39-9edb856d362a\",\"type\":\"Line\"},{\"attributes\":{\"formatter\":{\"id\":\"e4b59777-ee84-4c80-bf27-3eb2d390dfb7\",\"type\":\"BasicTickFormatter\"},\"plot\":{\"id\":\"a90f77af-5dc7-4075-986e-86ee602b61bd\",\"subtype\":\"Figure\",\"type\":\"Plot\"},\"ticker\":{\"id\":\"265add25-c1a9-4487-b522-0c10b26f3a61\",\"type\":\"BasicTicker\"}},\"id\":\"a5bdc69b-4307-449e-8811-1c74ecfb6cc9\",\"type\":\"LinearAxis\"},{\"attributes\":{\"plot\":{\"id\":\"a90f77af-5dc7-4075-986e-86ee602b61bd\",\"subtype\":\"Figure\",\"type\":\"Plot\"}},\"id\":\"1059878b-f2a0-4573-82ed-01581cb8806e\",\"type\":\"PanTool\"}],\"root_ids\":[\"a90f77af-5dc7-4075-986e-86ee602b61bd\"]},\"title\":\"Bokeh Application\",\"version\":\"0.11.1\"}};\n",
       "            var render_items = [{\"docid\":\"267ddcbd-26bd-4a20-bd83-b93c60aa688f\",\"elementid\":\"78e5d743-a5ec-4780-9e7e-b4d93dc17276\",\"modelid\":\"a90f77af-5dc7-4075-986e-86ee602b61bd\",\"notebook_comms_target\":\"80540c29-b3b9-4a5d-849e-7969e660e529\"}];\n",
       "            \n",
       "            Bokeh.embed.embed_items(docs_json, render_items);\n",
       "        });\n",
       "      },\n",
       "      function(Bokeh) {\n",
       "      }\n",
       "    ];\n",
       "  \n",
       "    function run_inline_js() {\n",
       "      for (var i = 0; i < inline_js.length; i++) {\n",
       "        inline_js[i](window.Bokeh);\n",
       "      }\n",
       "    }\n",
       "  \n",
       "    if (window._bokeh_is_loading === 0) {\n",
       "      console.log(\"Bokeh: BokehJS loaded, going straight to plotting\");\n",
       "      run_inline_js();\n",
       "    } else {\n",
       "      load_libs(js_urls, function() {\n",
       "        console.log(\"Bokeh: BokehJS plotting callback run at\", now());\n",
       "        run_inline_js();\n",
       "      });\n",
       "    }\n",
       "  }(this));\n",
       "</script>"
      ]
     },
     "metadata": {},
     "output_type": "display_data"
    },
    {
     "data": {
      "text/html": [
       "<p><code>&lt;Bokeh Notebook handle for <strong>In[8]</strong>&gt;</code></p>"
      ],
      "text/plain": [
       "<bokeh.io._CommsHandle at 0x88b32d0>"
      ]
     },
     "execution_count": 8,
     "metadata": {},
     "output_type": "execute_result"
    }
   ],
   "source": [
    "p.circle(x, 2*y)\n",
    "show(p)"
   ]
  }
 ],
 "metadata": {
  "kernelspec": {
   "display_name": "Python 2",
   "language": "python",
   "name": "python2"
  },
  "language_info": {
   "codemirror_mode": {
    "name": "ipython",
    "version": 2
   },
   "file_extension": ".py",
   "mimetype": "text/x-python",
   "name": "python",
   "nbconvert_exporter": "python",
   "pygments_lexer": "ipython2",
   "version": "2.7.11"
  }
 },
 "nbformat": 4,
 "nbformat_minor": 0
}
